{
 "cells": [
  {
   "cell_type": "code",
   "execution_count": 118,
   "metadata": {},
   "outputs": [],
   "source": [
    "import backtrader as bt\n",
    "import pandas as pd\n",
    "import matplotlib.pyplot as plt\n",
    "import datetime as dt\n",
    "\n",
    "def get_data():\n",
    "    df = pd.read_csv('./2022_Problem_C_DATA/HPQ.csv')\n",
    "    df.columns = [\"Date\",\"open\",\"high\",\"low\",\"close\",\"volume\"]\n",
    "    df = df.iloc[:, 0:5]\n",
    "    \n",
    "    # df.open = df.open.astype('float')\n",
    "    # df.high = df.high.astype('float')\n",
    "    # df.low = df.low.astype('float')\n",
    "    # df.close = df.close.astype('float')\n",
    "    # df.volume = df.volume.astype('float')\n",
    "\n",
    "    df['Date'] = pd.to_datetime(df['Date'])\n",
    "    df.set_index('Date', inplace = True)\n",
    "    return df"
   ]
  },
  {
   "cell_type": "code",
   "execution_count": 119,
   "metadata": {},
   "outputs": [],
   "source": [
    "class MaCrossStrategy(bt.Strategy):\n",
    "    params = {'fast_length':10, 'slow_length': 40}\n",
    "    \n",
    "    def __init__(self):\n",
    "        ma_fast = bt.ind.SMA(period = self.params.fast_length)\n",
    "        ma_slow = bt.ind.SMA(period = self.params.slow_length)\n",
    "        \n",
    "        self.crossover = bt.ind.CrossOver(ma_fast, ma_slow)\n",
    "    \n",
    "    def next(self):\n",
    "        if not self.position:\n",
    "            if self.crossover > 0:\n",
    "                self.buy()\n",
    "        elif self.crossover < 0:\n",
    "                self.close()    \n",
    "    "
   ]
  },
  {
   "cell_type": "code",
   "execution_count": 120,
   "metadata": {},
   "outputs": [
    {
     "name": "stdout",
     "output_type": "stream",
     "text": [
      "Start portfolio value: 1000.0\n",
      "End portfolio value: nan\n"
     ]
    },
    {
     "ename": "ImportError",
     "evalue": "cannot import name 'warnings' from 'matplotlib.dates' (/Users/luke/miniforge3/envs/mcm/lib/python3.8/site-packages/matplotlib/dates.py)",
     "output_type": "error",
     "traceback": [
      "\u001b[0;31m---------------------------------------------------------------------------\u001b[0m",
      "\u001b[0;31mImportError\u001b[0m                               Traceback (most recent call last)",
      "\u001b[1;32m/Users/luke/Desktop/美赛/MCM-ICM-2022/test.ipynb Cell 3'\u001b[0m in \u001b[0;36m<module>\u001b[0;34m\u001b[0m\n\u001b[1;32m     <a href='vscode-notebook-cell:/Users/luke/Desktop/%E7%BE%8E%E8%B5%9B/MCM-ICM-2022/test.ipynb#ch0000002?line=19'>20</a>\u001b[0m \u001b[39mprint\u001b[39m(\u001b[39m'\u001b[39m\u001b[39mEnd portfolio value: \u001b[39m\u001b[39m{}\u001b[39;00m\u001b[39m'\u001b[39m\u001b[39m.\u001b[39mformat(cerebro\u001b[39m.\u001b[39mbroker\u001b[39m.\u001b[39mgetvalue()))\n\u001b[1;32m     <a href='vscode-notebook-cell:/Users/luke/Desktop/%E7%BE%8E%E8%B5%9B/MCM-ICM-2022/test.ipynb#ch0000002?line=21'>22</a>\u001b[0m \u001b[39m# Plot\u001b[39;00m\n\u001b[0;32m---> <a href='vscode-notebook-cell:/Users/luke/Desktop/%E7%BE%8E%E8%B5%9B/MCM-ICM-2022/test.ipynb#ch0000002?line=22'>23</a>\u001b[0m cerebro\u001b[39m.\u001b[39;49mplot(style \u001b[39m=\u001b[39;49m \u001b[39m'\u001b[39;49m\u001b[39mcandle\u001b[39;49m\u001b[39m'\u001b[39;49m)\n",
      "File \u001b[0;32m~/miniforge3/envs/mcm/lib/python3.8/site-packages/backtrader/cerebro.py:974\u001b[0m, in \u001b[0;36mCerebro.plot\u001b[0;34m(self, plotter, numfigs, iplot, start, end, width, height, dpi, tight, use, **kwargs)\u001b[0m\n\u001b[1;32m    <a href='file:///~/miniforge3/envs/mcm/lib/python3.8/site-packages/backtrader/cerebro.py?line=970'>971</a>\u001b[0m     \u001b[39mreturn\u001b[39;00m\n\u001b[1;32m    <a href='file:///~/miniforge3/envs/mcm/lib/python3.8/site-packages/backtrader/cerebro.py?line=972'>973</a>\u001b[0m \u001b[39mif\u001b[39;00m \u001b[39mnot\u001b[39;00m plotter:\n\u001b[0;32m--> <a href='file:///~/miniforge3/envs/mcm/lib/python3.8/site-packages/backtrader/cerebro.py?line=973'>974</a>\u001b[0m     \u001b[39mfrom\u001b[39;00m \u001b[39m.\u001b[39;00m \u001b[39mimport\u001b[39;00m plot\n\u001b[1;32m    <a href='file:///~/miniforge3/envs/mcm/lib/python3.8/site-packages/backtrader/cerebro.py?line=974'>975</a>\u001b[0m     \u001b[39mif\u001b[39;00m \u001b[39mself\u001b[39m\u001b[39m.\u001b[39mp\u001b[39m.\u001b[39moldsync:\n\u001b[1;32m    <a href='file:///~/miniforge3/envs/mcm/lib/python3.8/site-packages/backtrader/cerebro.py?line=975'>976</a>\u001b[0m         plotter \u001b[39m=\u001b[39m plot\u001b[39m.\u001b[39mPlot_OldSync(\u001b[39m*\u001b[39m\u001b[39m*\u001b[39mkwargs)\n",
      "File \u001b[0;32m~/miniforge3/envs/mcm/lib/python3.8/site-packages/backtrader/plot/__init__.py:42\u001b[0m, in \u001b[0;36m<module>\u001b[0;34m\u001b[0m\n\u001b[1;32m     <a href='file:///~/miniforge3/envs/mcm/lib/python3.8/site-packages/backtrader/plot/__init__.py?line=35'>36</a>\u001b[0m     \u001b[39mexcept\u001b[39;00m:\n\u001b[1;32m     <a href='file:///~/miniforge3/envs/mcm/lib/python3.8/site-packages/backtrader/plot/__init__.py?line=36'>37</a>\u001b[0m         \u001b[39m# if another backend has already been loaded, an exception will be\u001b[39;00m\n\u001b[1;32m     <a href='file:///~/miniforge3/envs/mcm/lib/python3.8/site-packages/backtrader/plot/__init__.py?line=37'>38</a>\u001b[0m         \u001b[39m# generated and this can be skipped\u001b[39;00m\n\u001b[1;32m     <a href='file:///~/miniforge3/envs/mcm/lib/python3.8/site-packages/backtrader/plot/__init__.py?line=38'>39</a>\u001b[0m         \u001b[39mpass\u001b[39;00m\n\u001b[0;32m---> <a href='file:///~/miniforge3/envs/mcm/lib/python3.8/site-packages/backtrader/plot/__init__.py?line=41'>42</a>\u001b[0m \u001b[39mfrom\u001b[39;00m \u001b[39m.\u001b[39;00m\u001b[39mplot\u001b[39;00m \u001b[39mimport\u001b[39;00m Plot, Plot_OldSync\n\u001b[1;32m     <a href='file:///~/miniforge3/envs/mcm/lib/python3.8/site-packages/backtrader/plot/__init__.py?line=42'>43</a>\u001b[0m \u001b[39mfrom\u001b[39;00m \u001b[39m.\u001b[39;00m\u001b[39mscheme\u001b[39;00m \u001b[39mimport\u001b[39;00m PlotScheme\n",
      "File \u001b[0;32m~/miniforge3/envs/mcm/lib/python3.8/site-packages/backtrader/plot/plot.py:44\u001b[0m, in \u001b[0;36m<module>\u001b[0;34m\u001b[0m\n\u001b[1;32m     <a href='file:///~/miniforge3/envs/mcm/lib/python3.8/site-packages/backtrader/plot/plot.py?line=41'>42</a>\u001b[0m \u001b[39mfrom\u001b[39;00m \u001b[39m.\u001b[39;00m\u001b[39mfinance\u001b[39;00m \u001b[39mimport\u001b[39;00m plot_candlestick, plot_ohlc, plot_volume, plot_lineonclose\n\u001b[1;32m     <a href='file:///~/miniforge3/envs/mcm/lib/python3.8/site-packages/backtrader/plot/plot.py?line=42'>43</a>\u001b[0m \u001b[39mfrom\u001b[39;00m \u001b[39m.\u001b[39;00m\u001b[39mformatters\u001b[39;00m \u001b[39mimport\u001b[39;00m (MyVolFormatter, MyDateFormatter, getlocator)\n\u001b[0;32m---> <a href='file:///~/miniforge3/envs/mcm/lib/python3.8/site-packages/backtrader/plot/plot.py?line=43'>44</a>\u001b[0m \u001b[39mfrom\u001b[39;00m \u001b[39m.\u001b[39;00m \u001b[39mimport\u001b[39;00m locator \u001b[39mas\u001b[39;00m loc\n\u001b[1;32m     <a href='file:///~/miniforge3/envs/mcm/lib/python3.8/site-packages/backtrader/plot/plot.py?line=44'>45</a>\u001b[0m \u001b[39mfrom\u001b[39;00m \u001b[39m.\u001b[39;00m\u001b[39mmulticursor\u001b[39;00m \u001b[39mimport\u001b[39;00m MultiCursor\n\u001b[1;32m     <a href='file:///~/miniforge3/envs/mcm/lib/python3.8/site-packages/backtrader/plot/plot.py?line=45'>46</a>\u001b[0m \u001b[39mfrom\u001b[39;00m \u001b[39m.\u001b[39;00m\u001b[39mscheme\u001b[39;00m \u001b[39mimport\u001b[39;00m PlotScheme\n",
      "File \u001b[0;32m~/miniforge3/envs/mcm/lib/python3.8/site-packages/backtrader/plot/locator.py:35\u001b[0m, in \u001b[0;36m<module>\u001b[0;34m\u001b[0m\n\u001b[1;32m     <a href='file:///~/miniforge3/envs/mcm/lib/python3.8/site-packages/backtrader/plot/locator.py?line=31'>32</a>\u001b[0m \u001b[39mfrom\u001b[39;00m \u001b[39mmatplotlib\u001b[39;00m\u001b[39m.\u001b[39;00m\u001b[39mdates\u001b[39;00m \u001b[39mimport\u001b[39;00m RRuleLocator \u001b[39mas\u001b[39;00m RRLocator\n\u001b[1;32m     <a href='file:///~/miniforge3/envs/mcm/lib/python3.8/site-packages/backtrader/plot/locator.py?line=32'>33</a>\u001b[0m \u001b[39mfrom\u001b[39;00m \u001b[39mmatplotlib\u001b[39;00m\u001b[39m.\u001b[39;00m\u001b[39mdates\u001b[39;00m \u001b[39mimport\u001b[39;00m AutoDateFormatter \u001b[39mas\u001b[39;00m ADFormatter\n\u001b[0;32m---> <a href='file:///~/miniforge3/envs/mcm/lib/python3.8/site-packages/backtrader/plot/locator.py?line=34'>35</a>\u001b[0m \u001b[39mfrom\u001b[39;00m \u001b[39mmatplotlib\u001b[39;00m\u001b[39m.\u001b[39;00m\u001b[39mdates\u001b[39;00m \u001b[39mimport\u001b[39;00m (HOURS_PER_DAY, MIN_PER_HOUR, SEC_PER_MIN,\n\u001b[1;32m     <a href='file:///~/miniforge3/envs/mcm/lib/python3.8/site-packages/backtrader/plot/locator.py?line=35'>36</a>\u001b[0m                               MONTHS_PER_YEAR, DAYS_PER_WEEK,\n\u001b[1;32m     <a href='file:///~/miniforge3/envs/mcm/lib/python3.8/site-packages/backtrader/plot/locator.py?line=36'>37</a>\u001b[0m                               SEC_PER_HOUR, SEC_PER_DAY,\n\u001b[1;32m     <a href='file:///~/miniforge3/envs/mcm/lib/python3.8/site-packages/backtrader/plot/locator.py?line=37'>38</a>\u001b[0m                               num2date, rrulewrapper, YearLocator,\n\u001b[1;32m     <a href='file:///~/miniforge3/envs/mcm/lib/python3.8/site-packages/backtrader/plot/locator.py?line=38'>39</a>\u001b[0m                               MicrosecondLocator, warnings)\n\u001b[1;32m     <a href='file:///~/miniforge3/envs/mcm/lib/python3.8/site-packages/backtrader/plot/locator.py?line=40'>41</a>\u001b[0m \u001b[39mfrom\u001b[39;00m \u001b[39mdateutil\u001b[39;00m\u001b[39m.\u001b[39;00m\u001b[39mrelativedelta\u001b[39;00m \u001b[39mimport\u001b[39;00m relativedelta\n\u001b[1;32m     <a href='file:///~/miniforge3/envs/mcm/lib/python3.8/site-packages/backtrader/plot/locator.py?line=41'>42</a>\u001b[0m \u001b[39mimport\u001b[39;00m \u001b[39mnumpy\u001b[39;00m \u001b[39mas\u001b[39;00m \u001b[39mnp\u001b[39;00m\n",
      "\u001b[0;31mImportError\u001b[0m: cannot import name 'warnings' from 'matplotlib.dates' (/Users/luke/miniforge3/envs/mcm/lib/python3.8/site-packages/matplotlib/dates.py)"
     ]
    }
   ],
   "source": [
    "df = get_data()\n",
    "data = bt.feeds.PandasData(dataname = df)\n",
    "\n",
    "cerebro = bt.Cerebro()\n",
    "\n",
    "# Add a stragety------------------------\n",
    "cerebro.addstrategy(MaCrossStrategy)\n",
    "\n",
    "# Add Data------------------------------\n",
    "cerebro.adddata(data)\n",
    "\n",
    "# Set cash------------------------------\n",
    "cerebro.broker.setcash(1000.0)\n",
    "cerebro.broker.setcommission(commission = 0.01)\n",
    "cerebro.addsizer(bt.sizers.PercentSizer, percents = 2)\n",
    "\n",
    "# Run the cerebro\n",
    "print('Start portfolio value: {}'.format(cerebro.broker.getvalue()))\n",
    "cerebro.run()\n",
    "print('End portfolio value: {}'.format(cerebro.broker.getvalue()))\n",
    "\n",
    "# Plot\n",
    "# cerebro.plot(style = 'candle')\n",
    "\n",
    "    \n",
    "    "
   ]
  }
 ],
 "metadata": {
  "interpreter": {
   "hash": "07efdcd4b820c98a756949507a4d29d7862823915ec7477944641bea022f4f62"
  },
  "kernelspec": {
   "display_name": "Python 3.8.8 ('base')",
   "language": "python",
   "name": "python3"
  },
  "language_info": {
   "codemirror_mode": {
    "name": "ipython",
    "version": 3
   },
   "file_extension": ".py",
   "mimetype": "text/x-python",
   "name": "python",
   "nbconvert_exporter": "python",
   "pygments_lexer": "ipython3",
   "version": "3.8.12"
  },
  "orig_nbformat": 4
 },
 "nbformat": 4,
 "nbformat_minor": 2
}
